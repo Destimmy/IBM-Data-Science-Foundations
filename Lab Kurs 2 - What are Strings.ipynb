{
  "metadata": {
    "language_info": {
      "codemirror_mode": {
        "name": "python",
        "version": 3
      },
      "file_extension": ".py",
      "mimetype": "text/x-python",
      "name": "python",
      "nbconvert_exporter": "python",
      "pygments_lexer": "ipython3",
      "version": "3.8"
    },
    "kernelspec": {
      "name": "python",
      "display_name": "Pyolite",
      "language": "python"
    }
  },
  "nbformat_minor": 4,
  "nbformat": 4,
  "cells": [
    {
      "cell_type": "markdown",
      "source": "# Lab Kurs 2 - What are Strings?",
      "metadata": {}
    },
    {
      "cell_type": "markdown",
      "source": "## Indexing",
      "metadata": {}
    },
    {
      "cell_type": "markdown",
      "source": "Ein String ist eine geordnete Sequenz; jedes Element in der Sequenz kann über einen Index angesteuert werden \n\n<img src=\"https://cf-courses-data.s3.us.cloud-object-storage.appdomain.cloud/IBMDeveloperSkillsNetwork-PY0101EN-SkillsNetwork/labs/Module%201/images/StringsIndex.png\" width=\"600\" align=\"center\">\n\nWICHTIG: Indexe starten immer mit 0! Beispiele siehe darunter",
      "metadata": {}
    },
    {
      "cell_type": "code",
      "source": "name = \"Michael Jackson\" # Variable definieren und String in die Variable packen\n\nprint(name[0])",
      "metadata": {
        "trusted": true
      },
      "execution_count": 29,
      "outputs": [
        {
          "name": "stdout",
          "text": "M\n",
          "output_type": "stream"
        }
      ]
    },
    {
      "cell_type": "code",
      "source": "print(name[6])",
      "metadata": {
        "trusted": true
      },
      "execution_count": 6,
      "outputs": [
        {
          "name": "stdout",
          "text": "l\n",
          "output_type": "stream"
        }
      ]
    },
    {
      "cell_type": "markdown",
      "source": "## Negative Indexing ",
      "metadata": {}
    },
    {
      "cell_type": "markdown",
      "source": "Indexing geht auch mit negativen Zahlen! Man zählt dann in Richtung 0, das letzte Element des Strings ist also -1\n\n<img src=\"https://cf-courses-data.s3.us.cloud-object-storage.appdomain.cloud/IBMDeveloperSkillsNetwork-PY0101EN-SkillsNetwork/labs/Module%201/images/StringsNeg.png\" width=\"600\" align=\"center\">\n",
      "metadata": {}
    },
    {
      "cell_type": "code",
      "source": "print(name[-4])",
      "metadata": {
        "trusted": true
      },
      "execution_count": 7,
      "outputs": [
        {
          "name": "stdout",
          "text": "k\n",
          "output_type": "stream"
        }
      ]
    },
    {
      "cell_type": "markdown",
      "source": "## Slicing ",
      "metadata": {}
    },
    {
      "cell_type": "markdown",
      "source": "Mit Slicing lassen sich mehrere Elemente aus einem String extrahieren; Syntax: Variablenname[x:x] -> Achtung auch hier Beginn bei 0 und nicht 1!",
      "metadata": {}
    },
    {
      "cell_type": "code",
      "source": "Name=\"Michael Jackson\"\n\nName[0:4]",
      "metadata": {
        "trusted": true
      },
      "execution_count": 10,
      "outputs": [
        {
          "execution_count": 10,
          "output_type": "execute_result",
          "data": {
            "text/plain": "'Mich'"
          },
          "metadata": {}
        }
      ]
    },
    {
      "cell_type": "code",
      "source": "Name[4:8] #hier ist das 8. Element aber nichtmehr eingeschlossen also eigentlich 4-7",
      "metadata": {
        "trusted": true
      },
      "execution_count": 30,
      "outputs": [
        {
          "execution_count": 30,
          "output_type": "execute_result",
          "data": {
            "text/plain": "'ael '"
          },
          "metadata": {}
        }
      ]
    },
    {
      "cell_type": "markdown",
      "source": "## Stride",
      "metadata": {}
    },
    {
      "cell_type": "markdown",
      "source": "Mit einem \"Stride-Wert\" lässt sich definieren, dass nur jede x-te Variable aus einem String extrahiert wird; Syntax: Variablenname[::x]\n-> Stride lässt sich auch mit einer Range kombinieren; Synatx: z.B: Variablenname[0:5:2]",
      "metadata": {}
    },
    {
      "cell_type": "code",
      "source": "Name=\"Michael Jackson\"",
      "metadata": {
        "trusted": true
      },
      "execution_count": 13,
      "outputs": []
    },
    {
      "cell_type": "code",
      "source": "Name[::2] #extrahiert jeden zweiten Wert aus dem String der in Variable \"Name\" definiert ist ",
      "metadata": {
        "trusted": true
      },
      "execution_count": 31,
      "outputs": [
        {
          "execution_count": 31,
          "output_type": "execute_result",
          "data": {
            "text/plain": "'McalJcsn'"
          },
          "metadata": {}
        }
      ]
    },
    {
      "cell_type": "code",
      "source": "Name[0:5:2]",
      "metadata": {
        "trusted": true
      },
      "execution_count": 15,
      "outputs": [
        {
          "execution_count": 15,
          "output_type": "execute_result",
          "data": {
            "text/plain": "'Mca'"
          },
          "metadata": {}
        }
      ]
    },
    {
      "cell_type": "markdown",
      "source": "## Concatenate Strings",
      "metadata": {}
    },
    {
      "cell_type": "markdown",
      "source": "Man kann Strings verketten bzw. kombineren, indem man das \"+\" Symbol verwendet -> Dem String wird dann ein neuer String hinzugefügt",
      "metadata": {}
    },
    {
      "cell_type": "code",
      "source": "Name = \"Michael Jackson\" ",
      "metadata": {
        "trusted": true
      },
      "execution_count": 16,
      "outputs": []
    },
    {
      "cell_type": "code",
      "source": "statement = name + \" is the best\" # Vor \"is\" ein Leerzeichen einfügen sonst Output \"Michael Jacksonis...\"",
      "metadata": {
        "trusted": true
      },
      "execution_count": 32,
      "outputs": []
    },
    {
      "cell_type": "code",
      "source": "statement # Man kann auch Varible \"Name\" verwenden dann wird alte Variable \"Name\" überschrieben ",
      "metadata": {
        "trusted": true
      },
      "execution_count": 33,
      "outputs": [
        {
          "execution_count": 33,
          "output_type": "execute_result",
          "data": {
            "text/plain": "'Michael Jackson is the best'"
          },
          "metadata": {}
        }
      ]
    },
    {
      "cell_type": "code",
      "source": "3 * statement # Durch Muliplikation wird der String in einer Varibale x mal hintereinander gedruckt",
      "metadata": {
        "trusted": true
      },
      "execution_count": 34,
      "outputs": [
        {
          "execution_count": 34,
          "output_type": "execute_result",
          "data": {
            "text/plain": "'Michael Jackson is the bestMichael Jackson is the bestMichael Jackson is the best'"
          },
          "metadata": {}
        }
      ]
    },
    {
      "cell_type": "markdown",
      "source": "## Escape Sequences ",
      "metadata": {}
    },
    {
      "cell_type": "markdown",
      "source": "Eine Escape Sequence beginnt immer mit einem Backslash \\\nEs gibt verschiedene Arten von Escapes\n\nnew line escape -> \\n z.B. print (\"Michael Jackson \\n ist the best\")\\\nTab escape -> \\t z.B. print (\"Michael Jackson \\t is the best\")\\\nWenn man backslah im String will -> \\\\ z.B. print (\"Michael Jackson \\\\ is the best\")\\\nWenn man String so drucken will wie er ist z.B. mit Sonderzeichen -> r vor dem String z.B. print(r\"Michael Jackson \\ is the best\")\\",
      "metadata": {}
    },
    {
      "cell_type": "markdown",
      "source": "## String Operations ",
      "metadata": {}
    },
    {
      "cell_type": "code",
      "source": "# Alle lower case Elemente zu upper case Elementen umwandeln\n\na = \"Thriller is the sixth studio album\"\nprint(\"before upper:\", a)\nb = a.upper()\nprint(\"After upper:\", b)",
      "metadata": {
        "trusted": true
      },
      "execution_count": 28,
      "outputs": [
        {
          "name": "stdout",
          "text": "before upper: Thriller is the sixth studio album\nAfter upper: THRILLER IS THE SIXTH STUDIO ALBUM\n",
          "output_type": "stream"
        }
      ]
    },
    {
      "cell_type": "code",
      "source": "# Einen Substring durch einen neuen Substring ersetzen\n\na = \"Michael Jackson is the best\"\nb = a.replace('Michael', 'Janet')\nb",
      "metadata": {
        "trusted": true
      },
      "execution_count": 36,
      "outputs": [
        {
          "execution_count": 36,
          "output_type": "execute_result",
          "data": {
            "text/plain": "'Janet Jackson is the best'"
          },
          "metadata": {}
        }
      ]
    },
    {
      "cell_type": "code",
      "source": "# Einen Substring in einem String finden -> Output ist nur der Index des ersten Elements des Substrings (Beginn bei 0!)\n\nname = \"Michael Jackson\"\nname.find('el')",
      "metadata": {
        "trusted": true
      },
      "execution_count": 42,
      "outputs": [
        {
          "execution_count": 42,
          "output_type": "execute_result",
          "data": {
            "text/plain": "5"
          },
          "metadata": {}
        }
      ]
    },
    {
      "cell_type": "code",
      "source": "# Wenn der Substring nicht im String gefunden werden kann ist der Output -1\nname.find('Jasdfasdasdf')\n",
      "metadata": {
        "trusted": true
      },
      "execution_count": 43,
      "outputs": [
        {
          "execution_count": 43,
          "output_type": "execute_result",
          "data": {
            "text/plain": "-1"
          },
          "metadata": {}
        }
      ]
    },
    {
      "cell_type": "code",
      "source": "",
      "metadata": {},
      "execution_count": null,
      "outputs": []
    }
  ]
}