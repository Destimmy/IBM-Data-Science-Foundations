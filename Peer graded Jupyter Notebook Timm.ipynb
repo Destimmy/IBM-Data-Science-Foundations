{
  "metadata": {
    "language_info": {
      "codemirror_mode": {
        "name": "python",
        "version": 3
      },
      "file_extension": ".py",
      "mimetype": "text/x-python",
      "name": "python",
      "nbconvert_exporter": "python",
      "pygments_lexer": "ipython3",
      "version": "3.8"
    },
    "kernelspec": {
      "name": "python",
      "display_name": "Pyolite",
      "language": "python"
    }
  },
  "nbformat_minor": 4,
  "nbformat": 4,
  "cells": [
    {
      "cell_type": "markdown",
      "source": "# My Jupyter Notebook on IBM Watson Studio",
      "metadata": {}
    },
    {
      "cell_type": "markdown",
      "source": "TIMM\nI aspire to land an internship in data analytics/data science within the next 2 months!",
      "metadata": {}
    },
    {
      "cell_type": "markdown",
      "source": "*I have been really interested in data analytics/data science since I was able to pitch and realize my first project idea at my current job using data analytics Tools like R.*\n*The reason why I want to delve deeper into the field is because I love to make informed and data driven decisions and see how my work directly increases productivity, sales etc.*",
      "metadata": {
        "tags": []
      }
    },
    {
      "cell_type": "markdown",
      "source": "### My code will display the result of a simple multiplication ",
      "metadata": {}
    },
    {
      "cell_type": "code",
      "source": "5*7",
      "metadata": {
        "trusted": true
      },
      "execution_count": 3,
      "outputs": [
        {
          "execution_count": 3,
          "output_type": "execute_result",
          "data": {
            "text/plain": "35"
          },
          "metadata": {}
        }
      ]
    },
    {
      "cell_type": "markdown",
      "source": "<a href=\"https://gatherer.wizards.com/pages/card/details.aspx?multiverseid=3422\"> My favorite Magic The Gathering Card </a>\n\n| name | age | pets |\n| --- | --- | --- |\n| Timm | 25 | none |\n| Tom | 26 | 1 dog |\n| Tina | 27 | 1 cat |\n\n\n1. Milk\n2. Eggs\n3. Bread\n4. Butter\n5. Juice",
      "metadata": {}
    },
    {
      "cell_type": "code",
      "source": "",
      "metadata": {},
      "execution_count": null,
      "outputs": []
    }
  ]
}