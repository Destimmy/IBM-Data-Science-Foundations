{
 "cells": [
  {
   "cell_type": "markdown",
   "metadata": {},
   "source": [
    "<center>\n",
    "    <img src=\"https://cf-courses-data.s3.us.cloud-object-storage.appdomain.cloud/IBMDeveloperSkillsNetwork-DS0105EN-SkillsNetwork/labs/Module2/images/SN_web_lightmode.png\" width=\"300\" alt=\"cognitiveclass.ai logo\">\n",
    "</center>\n"
   ]
  },
  {
   "cell_type": "markdown",
   "metadata": {},
   "source": [
    "# Writing your first Python Code\n"
   ]
  },
  {
   "cell_type": "code",
   "execution_count": 12,
   "metadata": {},
   "outputs": [
    {
     "name": "stdout",
     "output_type": "stream",
     "text": [
      "Hello, Python!\n"
     ]
    }
   ],
   "source": [
    "# Bei \"print\" Kommando den zu printenden String immer in \"\" setzen!\n",
    "\n",
    "print (\"Hello, Python!\")"
   ]
  },
  {
   "cell_type": "code",
   "execution_count": 13,
   "metadata": {},
   "outputs": [
    {
     "name": "stdout",
     "output_type": "stream",
     "text": [
      "3.7.12 | packaged by conda-forge | (default, Oct 26 2021, 06:08:53) \n",
      "[GCC 9.4.0]\n"
     ]
    }
   ],
   "source": [
    "# Python 3 ist der neue Industriestandard - Überprüfung der aktuellen Python Version\n",
    "\n",
    "import sys\n",
    "print (sys.version)\n",
    "\n",
    "# sys muss immer erst importiert werden! Es enthält zahlreiche systemspezifische Parameter wenn man diese überprüfen will "
   ]
  },
  {
   "cell_type": "markdown",
   "metadata": {},
   "source": [
    "### verschiedene Objekttypen in Python\n",
    "11: integer; Zahlen die keine Nachkommastellen haben; schließt negative Zahlen ein!\n",
    "\n",
    "2.14: Float; Natürliche Zahlen mit Nachkommastellen\n",
    "\n",
    "\"Hello, python!\": String; Strings sind Wörter die z.B. von der Print Funktion gedruckt werden können\n",
    "\n",
    "TRUE/FALSE: Boolean; Boolean kann entweder den Wert \"TRUE\" oder \"FALSE\" haben mehr nicht!\n",
    "\n",
    "über type() Funktion kann der Objekttyp für jedes Objekt bestimmt werden!"
   ]
  },
  {
   "cell_type": "code",
   "execution_count": 22,
   "metadata": {},
   "outputs": [
    {
     "data": {
      "text/plain": [
       "int"
      ]
     },
     "execution_count": 22,
     "metadata": {},
     "output_type": "execute_result"
    }
   ],
   "source": [
    "# typecasting -> Ändern des Objekttyps \n",
    "# Hier wird 2 (INT) zu 2.0 (FLOAT) geändert; Achtung: Informationen gehen verloren wenn FLOAT zu INT konvertiert wird weil Zahlen abgerundet werden\n",
    "# Wenn Strings NUR Zahlen enthalten können sie zu FLOAT oder INT geändert werden, wenn zusätzlich Wörter vorkommen gibt es Error-Message\n",
    "\n",
    "type(2)"
   ]
  },
  {
   "cell_type": "code",
   "execution_count": 20,
   "metadata": {},
   "outputs": [
    {
     "data": {
      "text/plain": [
       "2.0"
      ]
     },
     "execution_count": 20,
     "metadata": {},
     "output_type": "execute_result"
    }
   ],
   "source": [
    "float (2)"
   ]
  },
  {
   "cell_type": "code",
   "execution_count": 21,
   "metadata": {},
   "outputs": [
    {
     "data": {
      "text/plain": [
       "float"
      ]
     },
     "execution_count": 21,
     "metadata": {},
     "output_type": "execute_result"
    }
   ],
   "source": [
    "type (float(2))"
   ]
  },
  {
   "cell_type": "code",
   "execution_count": null,
   "metadata": {},
   "outputs": [],
   "source": []
  }
 ],
 "metadata": {
  "kernelspec": {
   "display_name": "Python",
   "language": "python",
   "name": "conda-env-python-py"
  },
  "language_info": {
   "codemirror_mode": {
    "name": "ipython",
    "version": 3
   },
   "file_extension": ".py",
   "mimetype": "text/x-python",
   "name": "python",
   "nbconvert_exporter": "python",
   "pygments_lexer": "ipython3",
   "version": "3.7.12"
  }
 },
 "nbformat": 4,
 "nbformat_minor": 4
}
